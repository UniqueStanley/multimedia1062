{
 "cells": [
  {
   "cell_type": "code",
   "execution_count": 2,
   "metadata": {},
   "outputs": [
    {
     "data": {
      "image/png": "[encoded data removed]",
      "text/plain": [
       "<Figure size 576x576 with 1 Axes>"
      ]
     },
     "metadata": {},
     "output_type": "display_data"
    }
   ],
   "source": [
    "from skimage import io,draw\n",
    "import matplotlib.pyplot as plt\n",
    "import numpy as np\n",
    "def drawPyramid(canvasSize):\n",
    "    ret_img = np.uint8(255*np.ones((canvasSize[0],canvasSize[1],3)))\n",
    "    for index in range(25,0,-1):\n",
    "        color = [index*10, index*5, index]\n",
    "        lineY=[0,0,index*10,index*10]\n",
    "        colX=[0,index*10,index*10,0]\n",
    "        rr, cc=draw.polygon(lineY,colX)\n",
    "        draw.set_color(ret_img,[rr,cc],color)\n",
    "    return ret_img\n",
    "plt.figure(num=6,figsize=(8,8))\n",
    "canvasSize=[500,500]\n",
    "img = drawPyramid(canvasSize)\n",
    "plt.imshow(img)\n",
    "plt.show()"
   ]
  },
  {
   "cell_type": "code",
   "execution_count": null,
   "metadata": {},
   "outputs": [],
   "source": []
  }
 ],
 "metadata": {
  "kernelspec": {
   "display_name": "Python 3",
   "language": "python",
   "name": "python3"
  },
  "language_info": {
   "codemirror_mode": {
    "name": "ipython",
    "version": 3
   },
   "file_extension": ".py",
   "mimetype": "text/x-python",
   "name": "python",
   "nbconvert_exporter": "python",
   "pygments_lexer": "ipython3",
   "version": "3.6.5"
  }
 },
 "nbformat": 4,
 "nbformat_minor": 2
}
